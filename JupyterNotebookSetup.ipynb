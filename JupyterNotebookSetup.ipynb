{
 "cells": [
  {
   "cell_type": "markdown",
   "id": "cba02dec-b34f-4637-9883-f13929958876",
   "metadata": {},
   "source": [
    "# My Title\n",
    "\n",
    "### Adding a brief Description here about the Notebook"
   ]
  },
  {
   "cell_type": "markdown",
   "id": "b536e731",
   "metadata": {},
   "source": [
    "## Ungraded Lab: Jupyter Notebook Setup & Basics"
   ]
  },
  {
   "cell_type": "markdown",
   "id": "5f866136",
   "metadata": {},
   "source": [
    "## Overview \n",
    "Welcome to your first hands-on lab in Python and Jupyter Notebooks! You'll learn the fundamentals of Jupyter while working with real employee data. This lab will help you get comfortable with the basic operations you'll need throughout the course. While the exercises here use different examples than the screencast, you can refer back to \"Getting Started with Jupyter Notebooks\" at any point for guidance on the core techniques and operations.\n",
    "\n",
    "## Learning Outcomes \n",
    "\n",
    "By the end of this lab, you will be able to:\n",
    "- Navigate the Jupyter Notebook interface\n",
    "- Create and format markdown cells\n",
    "- Execute Python code in code cells\n",
    "- Load and examine basic dataset information\n",
    "\n",
    "## Dataset Information \n",
    "We'll be using <b>employee_insights.csv</b>, a dataset containing:\n",
    "- Employee demographic information\n",
    "- Department assignments\n",
    "- Performance metrics\n",
    "- Work experience details"
   ]
  },
  {
   "cell_type": "markdown",
   "id": "8ff62287",
   "metadata": {},
   "source": [
    "## Activities\n",
    "\n",
    "### Activity 1: Setting Up Your First Notebook\n",
    "\n",
    "Understanding notebook basics and markdown formatting."
   ]
  },
  {
   "cell_type": "markdown",
   "id": "cc1e2679",
   "metadata": {},
   "source": [
    "<b>Step 1:</b> Create Your Title. Create a new cell and add a title and subtitle for your notebook, using the following example as a guide: "
   ]
  },
  {
   "cell_type": "markdown",
   "id": "b765a8ba-2ce0-4c91-aa5e-b05dac998554",
   "metadata": {},
   "source": [
    "# Title of your notebook\n",
    "## Add a subtitle"
   ]
  },
  {
   "cell_type": "markdown",
   "id": "0ae14fbe",
   "metadata": {},
   "source": [
    "<b>Tip:</b> Use the cell type dropdown to select \"Markdown\". "
   ]
  },
  {
   "cell_type": "markdown",
   "id": "bc978632",
   "metadata": {},
   "source": [
    "<b>Step 2:</b> Practice Markdown. Create another cell and try creating bold and italic text, and bullet points, using the following example as a guide:"
   ]
  },
  {
   "cell_type": "markdown",
   "id": "fb7dc247-d0ab-444d-b7a0-1decbdc36ce3",
   "metadata": {},
   "source": [
    "**Bold text**\n",
    "*Italic text*\n",
    "- Bullet points "
   ]
  },
  {
   "cell_type": "markdown",
   "id": "124b8d18",
   "metadata": {},
   "source": [
    "### Activity 2: Basic Python Operations\n",
    "Let's write our first Python code."
   ]
  },
  {
   "cell_type": "markdown",
   "id": "769d3bb6",
   "metadata": {},
   "source": [
    "<b>Step 1:</b> Variables and Printing"
   ]
  },
  {
   "cell_type": "code",
   "execution_count": 2,
   "id": "090b61a1",
   "metadata": {},
   "outputs": [
    {
     "name": "stdout",
     "output_type": "stream",
     "text": [
      "Welcome to TechCorp! We are 10000 members strong!!\n"
     ]
    }
   ],
   "source": [
    "# Create your first variables\n",
    "company_name = \"TechCorp\"\n",
    "employee_count = 10000\n",
    "\n",
    "# Print them\n",
    "print(f\"Welcome to {company_name}! We are {employee_count} members strong!!\")"
   ]
  },
  {
   "cell_type": "markdown",
   "id": "4fa69828",
   "metadata": {},
   "source": [
    "<b>Step 2: Try It Yourself:</b> Add a new coding cell, then practice creating variables for:\n",
    "- Department name\n",
    "- Average salary\n",
    "- Current year"
   ]
  },
  {
   "cell_type": "markdown",
   "id": "01e8ea52",
   "metadata": {},
   "source": [
    "<b>Tip:</b> Use the cell type dropdown to select \"Code\""
   ]
  },
  {
   "cell_type": "markdown",
   "id": "a8b47e56",
   "metadata": {},
   "source": [
    "### Activity 3: Working with Data\n",
    "\n",
    "Loading and examining our dataset."
   ]
  },
  {
   "cell_type": "markdown",
   "id": "b4f8f1d5",
   "metadata": {},
   "source": [
    "<b>Step 1:</b> Import and load a dataset using pandas library"
   ]
  },
  {
   "cell_type": "code",
   "execution_count": null,
   "id": "2e92ead9",
   "metadata": {},
   "outputs": [],
   "source": [
    "import pandas as pd\n",
    "\n",
    "# Load the dataset\n",
    "df = pd.read_csv('employee_insights.csv')"
   ]
  },
  {
   "cell_type": "markdown",
   "id": "4321160e",
   "metadata": {},
   "source": [
    "<b>Step 2:</b> Basic Exploration"
   ]
  },
  {
   "cell_type": "code",
   "execution_count": null,
   "id": "42f7bdcd",
   "metadata": {},
   "outputs": [],
   "source": [
    "# View first rows\n",
    "df.head()\n",
    "\n",
    "# Get basic information from the dataframe\n",
    "df.info()"
   ]
  },
  {
   "cell_type": "markdown",
   "id": "5684a49c",
   "metadata": {},
   "source": [
    "<b>Test Your Work</b>\n",
    "1. Run all cells in order\n",
    "2. Verify markdown formatting appears correctly\n",
    "3. Confirm dataset loads without errors\n",
    "4. Check that all print statements work\n",
    "\n",
    "## Success Checklist\n",
    "- Created properly formatted markdown cells\n",
    "- Successfully executed Python code cells\n",
    "- Loaded the dataset correctly\n",
    "- Completed all practice exercises\n",
    "\n",
    "## Common Issues & Solutions \n",
    "- Problem: Cell shows code instead of formatting \n",
    "    - Solution: Check cell type is set to \"Markdown\"\n",
    "- Problem: Dataset won't load \n",
    "    - Solution: Verify file is in correct directory\n",
    "\n",
    "## Summary \n",
    "In this lab, you learned the essential basics of Jupyter Notebooks, including how to create and format markdown cells, execute Python code, and work with a real employee dataset through the Jupyter interface. You gained hands-on experience with fundamental operations like navigating between cells, running code, and examining basic dataset information, setting you up for success in future data analysis tasks.\n",
    "\n",
    "### Key Points\n",
    "- Jupyter combines code and documentation\n",
    "- Markdown formats text\n",
    "- Code cells run Python\n",
    "- pandas loads data"
   ]
  }
 ],
 "metadata": {
  "kernelspec": {
   "display_name": "Python 3 (ipykernel)",
   "language": "python",
   "name": "python3"
  },
  "language_info": {
   "codemirror_mode": {
    "name": "ipython",
    "version": 3
   },
   "file_extension": ".py",
   "mimetype": "text/x-python",
   "name": "python",
   "nbconvert_exporter": "python",
   "pygments_lexer": "ipython3",
   "version": "3.10.6"
  }
 },
 "nbformat": 4,
 "nbformat_minor": 5
}
